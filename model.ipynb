{
 "cells": [
  {
   "cell_type": "code",
   "execution_count": 2,
   "metadata": {},
   "outputs": [
    {
     "name": "stdout",
     "output_type": "stream",
     "text": [
      "using cuda, number of workers: 8\n"
     ]
    }
   ],
   "source": [
    "# from google.colab import drive\n",
    "# drive.mount('/content/gdrive')\n",
    "\n",
    "import torch\n",
    "import torch.nn as nn\n",
    "from torch.nn import CrossEntropyLoss\n",
    "from torch.optim import Adam\n",
    "from torchvision import disable_beta_transforms_warning\n",
    "disable_beta_transforms_warning()\n",
    "import torchvision.transforms.v2 as tf\n",
    "from torchvision.datasets import ImageFolder\n",
    "from torch.utils.data import Subset, DataLoader\n",
    "from tqdm import tqdm\n",
    "import yaml\n",
    "import os\n",
    "import matplotlib.pyplot as plt\n",
    "import random\n",
    "\n",
    "workers = os.cpu_count()\n",
    "pu = 'cuda' if torch.cuda.is_available() else 'cpu'\n",
    "\n",
    "assert pu == 'cuda', 'Connect to the GPU'\n",
    "\n",
    "print(f'using {pu}, number of workers: {workers}')\n",
    "\n",
    "home_folder = '/home/user'\n",
    "WORKSPACE = f'{home_folder}/Skin_Diseases_Detection'\n",
    "DATASET_FOLDER = f\"{home_folder}/skdi_dataset\"\n",
    "TRAINING_FOLDER = f'{DATASET_FOLDER}/Training'\n",
    "TESTING_FOLDER = f'{DATASET_FOLDER}/Testing'\n",
    "CHECKPOINT_FOLDER = f'{WORKSPACE}/checkpoints'\n",
    "STATUS_FOLDER = f'{WORKSPACE}/status'\n",
    "PLOT_FOLDER = f'{WORKSPACE}/plots'\n",
    "PARAM_FOLDER = f'{WORKSPACE}/param'\n",
    "CONFIG_FOLDER = f'{WORKSPACE}/config'\n",
    "MODEL_FOLDER = f'{WORKSPACE}/model'\n"
   ]
  },
  {
   "cell_type": "code",
   "execution_count": 9,
   "metadata": {},
   "outputs": [],
   "source": [
    "class Dataset:\n",
    "    def __init__(self, train_trans, test_trans, train_batch_size = 32, val_rat = 0.2):\n",
    "        self._ds = ImageFolder(TRAINING_FOLDER, train_trans)\n",
    "        self.test_ds = ImageFolder(TESTING_FOLDER, test_trans)\n",
    "        ds_size = len(self._ds)\n",
    "        val_size = int(val_rat*ds_size)\n",
    "        train_size = len(self._ds) - val_size\n",
    "\n",
    "        self.train_ds, self.val_ds = Subset(self._ds, range(train_size)), Subset(self._ds, range(train_size, ds_size))\n",
    "        self.train_dl = DataLoader(self.train_ds, batch_size=train_batch_size, shuffle=True, num_workers=workers)\n",
    "        self.test_dl = DataLoader(self.test_ds, batch_size=train_batch_size, shuffle=True, num_workers=workers)\n",
    "        self.val_dl = DataLoader(self.val_ds, batch_size=train_batch_size, shuffle=True, num_workers=workers)\n",
    "\n",
    "def make_cnn(dataset: ImageFolder, hid_layers = [64, 64],\n",
    "            act_fn='relu', max_pool = None, pooling_after_layers = 2, dropout = 0.2, batch_norm=True,\n",
    "            conv_layers=[[32, 3, 1],\n",
    "                         [16, 3, 1]]):\n",
    "    \n",
    "    img = dataset.__getitem__(0)[0]\n",
    "    input_shape = img.shape\n",
    "    num_of_classes = len(dataset.classes)\n",
    "    layers = []\n",
    "    activation_fun = {'relu': nn.ReLU(), 'softplus':nn.Softplus(), 'tanh':nn.Tanh(), 'elu': nn.ELU()}\n",
    "\n",
    "    assert pooling_after_layers < len(conv_layers), 'exceeding the number conv layers..'\n",
    "\n",
    "    in_chann, inp_h, inp_w = input_shape\n",
    "    for ind, conv in enumerate(conv_layers):\n",
    "        out_chann, filter_size, stride = conv\n",
    "        layers.append(nn.Conv2d(in_chann, out_chann, filter_size, stride))\n",
    "        if batch_norm:\n",
    "            layers.append(nn.BatchNorm2d(out_chann))\n",
    "        layers.append(activation_fun[act_fn])\n",
    "\n",
    "        out_h = (inp_h - filter_size)//stride + 1\n",
    "        out_w = (inp_w - filter_size)//stride + 1\n",
    "        inp_h = out_h\n",
    "        inp_w = out_w\n",
    "\n",
    "        if max_pool is not None and ((ind+1) % pooling_after_layers == 0 or ind == (len(conv_layers) - 1)):\n",
    "            layers.append(nn.MaxPool2d(max_pool[0], max_pool[1]))\n",
    "            out_h = (inp_h - max_pool[0])//max_pool[1] + 1\n",
    "            out_w = (inp_w - max_pool[0])//max_pool[1] + 1\n",
    "            inp_h = out_h\n",
    "            inp_w = out_w\n",
    "        in_chann = out_chann\n",
    "\n",
    "    layers.append(nn.Flatten())\n",
    "    layers.append(nn.Linear(inp_h*inp_w*in_chann, hid_layers[0]))\n",
    "    layers.append(activation_fun[act_fn])\n",
    "    if len(hid_layers) > 1:\n",
    "        dim_pairs = zip(hid_layers[:-1], hid_layers[1:])\n",
    "        for in_dim, out_dim in list(dim_pairs):\n",
    "            layers.append(nn.Linear(in_dim, out_dim))\n",
    "            if dropout is not None:\n",
    "                layers.append(nn.Dropout(p=dropout))\n",
    "            layers.append(activation_fun[act_fn])\n",
    "\n",
    "    layers.append(nn.Linear(hid_layers[-1], num_of_classes))\n",
    "    return nn.Sequential(*layers)\n",
    "\n",
    "def convert(**kwargs):\n",
    "    return kwargs\n",
    "\n",
    "class Utils:\n",
    "    def __init__(self):\n",
    "        self.model = None\n",
    "        self.model_file = ''\n",
    "        self.plot_file = ''\n",
    "        self.min_loss = 0\n",
    "\n",
    "    def read_file(self, path):\n",
    "        file = open(path, 'r')\n",
    "        file.seek(0)\n",
    "        info = file.readline()\n",
    "        file.close()\n",
    "        return info\n",
    "\n",
    "    def write_file(self, path, content):\n",
    "        mode = 'w'\n",
    "        if path == self.plot_file:\n",
    "            mode = '+a'\n",
    "        file = open(path, mode=mode)\n",
    "        file.write(content)\n",
    "        file.close()\n",
    "\n",
    "    def create_file(self, path):\n",
    "        with open(path, 'w') as file:\n",
    "            pass\n",
    "        file.close()\n",
    "\n",
    "    def create_checkpoint_file(self, num):\n",
    "        path = f'{CHECKPOINT_FOLDER}/checkpoint_{num}.pth'\n",
    "        file = open(path, 'w')\n",
    "        file.close()\n",
    "        return path\n",
    "    \n",
    "    def save_config(self, args: dict):\n",
    "        if not os.path.exists(self.config_file):\n",
    "            self.create_file(self.config_file)\n",
    "        with open(self.config_file, 'w') as file:\n",
    "            yaml.safe_dump(args, file)\n",
    "        file.close()\n",
    "\n",
    "    def check_status_file(self):\n",
    "        if not os.path.exists(self.status_file):\n",
    "            self.create_file(self.status_file)\n",
    "        checkpath = self.read_file(self.status_file)\n",
    "        epoch = 0\n",
    "        if checkpath != '':\n",
    "            epoch = self.load_checkpoint(checkpath)\n",
    "            file = open(self.plot_file, 'r')\n",
    "            lines = file.readlines()\n",
    "            file = open(self.plot_file, 'w')\n",
    "            file.writelines(lines[:epoch+1])\n",
    "            file.close()\n",
    "        else:\n",
    "            file = open(self.plot_file, 'w')\n",
    "            file.close()\n",
    "            self.write_file(self.plot_file,'Train_loss,Train_acc,Valid_loss,Valid_acc\\n')\n",
    "            self.model.train()\n",
    "        return epoch\n",
    "\n",
    "    def write_plot_data(self, data:list):\n",
    "        str_data = ','.join(map(str, data))\n",
    "        self.write_file(self.plot_file, f'{str_data}\\n')\n",
    "\n",
    "    def save_checkpoint(self, epoch, checkpath):\n",
    "        checkpoint = {\n",
    "            'model_state_dict': self.model.state_dict(),\n",
    "            'optim_state_dict': self.optim.state_dict(),\n",
    "            'epoch': epoch\n",
    "        }\n",
    "        file = open(self.status_file, 'w')\n",
    "        file.write(checkpath)\n",
    "        file.close()\n",
    "        torch.save(checkpoint, checkpath)\n",
    "        print('checkpoint saved..')\n",
    "    \n",
    "    def load_checkpoint(self, checkpath):\n",
    "        print('loading checkpoint..')\n",
    "        checkpoint = torch.load(checkpath)\n",
    "        self.model.load_state_dict(checkpoint['model_state_dict'])\n",
    "        self.optim.load_state_dict(checkpoint['optim_state_dict'])\n",
    "        self.model.train()\n",
    "        print('checkpoint loaded...')\n",
    "        return checkpoint['epoch']\n",
    "    \n",
    "    def save_check_interval(self, epoch, interval=50):\n",
    "        if not(epoch % interval) and epoch > 0:\n",
    "            checkpath = self.create_checkpoint_file(epoch)\n",
    "            self.save_checkpoint(epoch, checkpath)\n",
    "    \n",
    "    def load_model(self):\n",
    "        print('loading model...')\n",
    "        self.model.load_state_dict(torch.load(self.model_file))\n",
    "        self.model.eval()\n",
    "        print('model loaded...')\n",
    "\n",
    "    def save_model(self):\n",
    "        torch.save(self.model.state_dict(), self.model_file)\n",
    "        print('model saved...')\n",
    "\n",
    "    def save_best_model(self, param, acc_param=True):\n",
    "        if acc_param:\n",
    "           param_ = max(param, self.param)\n",
    "        else:\n",
    "            param_ = min(param, self.param)\n",
    "        self.param = param_\n",
    "        self.write_file(self.param_file, f'{param_}')\n",
    "        self.save_model()\n",
    "\n",
    "    def check_param_file(self):\n",
    "        if os.path.exists(self.param_file):\n",
    "            param = float(self.read_file(self.param_file))\n",
    "        else:\n",
    "            self.create_file(self.param_file)\n",
    "            param = -1000.0\n",
    "            self.write_file(self.param_file, f'{param}')\n",
    "        return param\n",
    "    \n",
    "\n",
    "class skdi_detector(Utils):\n",
    "    def __init__(self,params):\n",
    "        self.params = params\n",
    "        self.dataset = Dataset(train_trans=params.train_trans, test_trans=params.test_trans,\n",
    "                               train_batch_size=params.batch_size, val_rat=params.val_rat)\n",
    "        self.loss_fn = CrossEntropyLoss()\n",
    "        self.name = params.name\n",
    "        self.model_file = f'{MODEL_FOLDER}/{self.name}_model.pth'\n",
    "        self.status_file = f'{STATUS_FOLDER}/{self.name}_status.txt'\n",
    "        self.plot_file = f'{PLOT_FOLDER}/{self.name}_plot.txt'\n",
    "        self.param_file = f'{PARAM_FOLDER}/{self.name}_param.txt'\n",
    "        self.config_file = f'{CONFIG_FOLDER}/{self.name}_config.yaml'\n",
    "        self.param = self.check_param_file()\n",
    "        self.metric_param = params.metric_param\n",
    "        self.clip_grad = params.clip_grad\n",
    "        self.acc_param = False\n",
    "        if self.metric_param in ['train_acc', 'val_acc']:\n",
    "            self.acc_param = True\n",
    "\n",
    "    def train_step(self):\n",
    "        train_loss, train_acc = 0.0, 0.0\n",
    "        for _, (x, y) in enumerate(self.dataset.train_dl):\n",
    "            x, y = x.to(pu), y.to(pu)\n",
    "            y_pred_logits = self.model(x)\n",
    "\n",
    "            loss = self.loss_fn(y_pred_logits, y)\n",
    "            train_loss += loss.item()\n",
    "\n",
    "            self.optim.zero_grad()\n",
    "            loss.backward()\n",
    "            torch.nn.utils.clip_grad.clip_grad_norm_(self.model.parameters(), self.clip_grad)\n",
    "            self.optim.step()\n",
    "\n",
    "            y_pred = torch.argmax(torch.softmax(y_pred_logits, dim=-1), dim=-1)\n",
    "            train_acc += (y_pred == y).sum().item()/len(y)\n",
    "        \n",
    "        train_loss /= len(self.dataset.train_dl)\n",
    "        train_acc /= len(self.dataset.train_dl)\n",
    "\n",
    "        return train_loss, train_acc\n",
    "    \n",
    "    def validate_step(self):\n",
    "        val_loss, val_acc = 0.0, 0.0\n",
    "        with torch.no_grad():\n",
    "            for _, (x, y) in enumerate(self.dataset.val_dl):\n",
    "                x, y = x.to(pu), y.to(pu)\n",
    "                y_pred_logits = self.model(x)\n",
    "\n",
    "                loss = self.loss_fn(y_pred_logits, y)\n",
    "                val_loss += loss.item()\n",
    "\n",
    "                y_pred = torch.argmax(torch.softmax(y_pred_logits, dim=-1), dim=-1)\n",
    "                val_acc += (y_pred == y).sum().item()/len(y)\n",
    "        \n",
    "        val_loss /= len(self.dataset.val_dl)\n",
    "        val_acc /= len(self.dataset.val_dl)\n",
    "        return val_loss, val_acc\n",
    "    \n",
    "    def create_model(self):\n",
    "        self.model = make_cnn(dataset=self.dataset._ds, hid_layers=self.params.hid_layers, act_fn=self.params.act_fn,\n",
    "                              max_pool=self.params.max_pool, pooling_after_layers=self.params.pool_after_layers,\n",
    "                              batch_norm=self.params.batch_norm, conv_layers=self.params.conv_layers, dropout=self.params.dropout).to(pu)\n",
    "        \n",
    "        self.optim = Adam(self.model.parameters(), lr=self.params.lr, eps=1e-6, weight_decay=1e-5)\n",
    "        print(f'Model: {self.model}')\n",
    "        print(f'Number of classes: {self.dataset._ds.classes}')\n",
    "        print(f'Input image size: {self.dataset._ds.__getitem__(0)[0][0].shape}')\n",
    "        \n",
    "    def plot_images(self):\n",
    "        fig, axes = plt.subplots(1, 3, figsize=(10, 10))\n",
    "        for i in range(3):\n",
    "            ind = random.randint(0, len(self.dataset.train_ds)-1)\n",
    "            img = self.dataset.train_ds.__getitem__(ind)[0]\n",
    "            img = img.numpy()\n",
    "            img = img.transpose((1, 2, 0)) if img.shape[0] == 3 else img\n",
    "            axes.flat[i].imshow(img)\n",
    "            axes.flat[i].axis('off')\n",
    "\n",
    "    def train(self):\n",
    "        epochs = self.params.epochs\n",
    "        epoch = 0\n",
    "        epoch = self.check_status_file()\n",
    "        print(f'training for {epochs} epochs....')\n",
    "        for ep in tqdm(range(epoch, epochs+1)):\n",
    "            train_loss, train_acc = self.train_step()\n",
    "            val_loss, val_acc = self.validate_step()\n",
    "\n",
    "            metric_param = {'train_loss': train_loss, 'train_acc': train_acc,\n",
    "                            'val_loss': val_loss, 'val_acc': val_acc}\n",
    "            \n",
    "            print(f'epochs: {ep}\\t{train_loss = :.4f}\\t{train_acc = :.4f}\\t{val_loss = :.4f}\\t{val_acc = :.4f}')\n",
    "            self.write_plot_data([train_loss, train_acc, val_loss, val_acc])\n",
    "            self.save_check_interval(epoch=ep, interval=1)\n",
    "            self.save_best_model(acc_param=self.acc_param, param=metric_param[self.metric_param])\n",
    "        \n",
    "        print('Finished Training....')\n",
    "    \n",
    "class Params:\n",
    "    def __init__(self):\n",
    "        self.name = 'model'\n",
    "        self.conv_layers = [[128, 3, 1],\n",
    "                            [128, 3, 1],\n",
    "                            [64, 3, 1],\n",
    "                            [64, 3, 1],\n",
    "                            [32, 3, 1],\n",
    "                            [32, 3, 1],\n",
    "                            [16, 3, 1],\n",
    "                            [16, 3, 1]]\n",
    "        self.hid_layers = [1024, 512, 256]\n",
    "        self.max_pool = [2, 2]\n",
    "        self.pool_after_layers = 2\n",
    "        self.act_fn = 'relu'\n",
    "        self.lr = 1e-5\n",
    "        self.epochs = 100\n",
    "        self.clip_grad = 0.3\n",
    "        self.metric_param = 'val_acc'\n",
    "        self.batch_size = 16\n",
    "        self.batch_norm = True\n",
    "        self.dropout = 0.2\n",
    "        self.test_trans = tf.Compose([\n",
    "            tf.Resize(size = (256,256)),\n",
    "            tf.ToImageTensor(),\n",
    "            tf.ConvertImageDtype()\n",
    "        ])\n",
    "        self.train_trans = tf.Compose([\n",
    "            tf.Resize(size=(256, 256)),\n",
    "            tf.RandomHorizontalFlip(p=0.8),\n",
    "            tf.RandomVerticalFlip(),\n",
    "            tf.ColorJitter(),\n",
    "            tf.ToImageTensor(),\n",
    "            tf.ConvertImageDtype()\n",
    "        ])\n",
    "        self.val_rat = 0.2"
   ]
  },
  {
   "cell_type": "code",
   "execution_count": 10,
   "metadata": {},
   "outputs": [
    {
     "name": "stdout",
     "output_type": "stream",
     "text": [
      "Model: Sequential(\n",
      "  (0): Conv2d(3, 128, kernel_size=(3, 3), stride=(1, 1))\n",
      "  (1): BatchNorm2d(128, eps=1e-05, momentum=0.1, affine=True, track_running_stats=True)\n",
      "  (2): ReLU()\n",
      "  (3): Conv2d(128, 128, kernel_size=(3, 3), stride=(1, 1))\n",
      "  (4): BatchNorm2d(128, eps=1e-05, momentum=0.1, affine=True, track_running_stats=True)\n",
      "  (5): ReLU()\n",
      "  (6): MaxPool2d(kernel_size=2, stride=2, padding=0, dilation=1, ceil_mode=False)\n",
      "  (7): Conv2d(128, 64, kernel_size=(3, 3), stride=(1, 1))\n",
      "  (8): BatchNorm2d(64, eps=1e-05, momentum=0.1, affine=True, track_running_stats=True)\n",
      "  (9): ReLU()\n",
      "  (10): Conv2d(64, 64, kernel_size=(3, 3), stride=(1, 1))\n",
      "  (11): BatchNorm2d(64, eps=1e-05, momentum=0.1, affine=True, track_running_stats=True)\n",
      "  (12): ReLU()\n",
      "  (13): MaxPool2d(kernel_size=2, stride=2, padding=0, dilation=1, ceil_mode=False)\n",
      "  (14): Conv2d(64, 32, kernel_size=(3, 3), stride=(1, 1))\n",
      "  (15): BatchNorm2d(32, eps=1e-05, momentum=0.1, affine=True, track_running_stats=True)\n",
      "  (16): ReLU()\n",
      "  (17): Conv2d(32, 32, kernel_size=(3, 3), stride=(1, 1))\n",
      "  (18): BatchNorm2d(32, eps=1e-05, momentum=0.1, affine=True, track_running_stats=True)\n",
      "  (19): ReLU()\n",
      "  (20): MaxPool2d(kernel_size=2, stride=2, padding=0, dilation=1, ceil_mode=False)\n",
      "  (21): Conv2d(32, 16, kernel_size=(3, 3), stride=(1, 1))\n",
      "  (22): BatchNorm2d(16, eps=1e-05, momentum=0.1, affine=True, track_running_stats=True)\n",
      "  (23): ReLU()\n",
      "  (24): Conv2d(16, 16, kernel_size=(3, 3), stride=(1, 1))\n",
      "  (25): BatchNorm2d(16, eps=1e-05, momentum=0.1, affine=True, track_running_stats=True)\n",
      "  (26): ReLU()\n",
      "  (27): MaxPool2d(kernel_size=2, stride=2, padding=0, dilation=1, ceil_mode=False)\n",
      "  (28): Flatten(start_dim=1, end_dim=-1)\n",
      "  (29): Linear(in_features=2304, out_features=1024, bias=True)\n",
      "  (30): ReLU()\n",
      "  (31): Linear(in_features=1024, out_features=512, bias=True)\n",
      "  (32): Dropout(p=0.2, inplace=False)\n",
      "  (33): ReLU()\n",
      "  (34): Linear(in_features=512, out_features=256, bias=True)\n",
      "  (35): Dropout(p=0.2, inplace=False)\n",
      "  (36): ReLU()\n",
      "  (37): Linear(in_features=256, out_features=3, bias=True)\n",
      ")\n",
      "Number of classes: ['akiec', 'mel', 'nv']\n",
      "Input image size: torch.Size([256, 256])\n",
      "training dataset size: 399\n",
      "validation dataset size: 99\n"
     ]
    }
   ],
   "source": [
    "params = Params()\n",
    "\n",
    "agent = skdi_detector(params)\n",
    "\n",
    "agent.create_model()\n",
    "print(f'training dataset size: {len(agent.dataset.train_ds)}')\n",
    "print(f'validation dataset size: {len(agent.dataset.val_ds)}')\n"
   ]
  },
  {
   "cell_type": "code",
   "execution_count": 28,
   "metadata": {},
   "outputs": [
    {
     "name": "stdout",
     "output_type": "stream",
     "text": [
      "training for 100 epochs....\n"
     ]
    },
    {
     "name": "stderr",
     "output_type": "stream",
     "text": [
      "  1%|          | 1/101 [00:07<13:05,  7.85s/it]"
     ]
    },
    {
     "name": "stdout",
     "output_type": "stream",
     "text": [
      "epochs: 0\ttrain_loss = 1.0952\ttrain_acc = 0.4160\tval_loss = 1.1245\tval_acc = 0.0000\n",
      "model saved...\n",
      "epochs: 1\ttrain_loss = 1.0910\ttrain_acc = 0.4158\tval_loss = 1.1410\tval_acc = 0.0000\n"
     ]
    },
    {
     "name": "stderr",
     "output_type": "stream",
     "text": [
      "  2%|▏         | 2/101 [00:16<13:14,  8.03s/it]"
     ]
    },
    {
     "name": "stdout",
     "output_type": "stream",
     "text": [
      "checkpoint saved..\n",
      "model saved...\n",
      "epochs: 2\ttrain_loss = 1.0870\ttrain_acc = 0.4162\tval_loss = 1.1600\tval_acc = 0.0000\n"
     ]
    },
    {
     "name": "stderr",
     "output_type": "stream",
     "text": [
      "  3%|▎         | 3/101 [00:24<13:12,  8.09s/it]"
     ]
    },
    {
     "name": "stdout",
     "output_type": "stream",
     "text": [
      "checkpoint saved..\n",
      "model saved...\n",
      "epochs: 3\ttrain_loss = 1.0824\ttrain_acc = 0.4160\tval_loss = 1.1819\tval_acc = 0.0000\n"
     ]
    },
    {
     "name": "stderr",
     "output_type": "stream",
     "text": [
      "  4%|▍         | 4/101 [00:32<13:06,  8.11s/it]"
     ]
    },
    {
     "name": "stdout",
     "output_type": "stream",
     "text": [
      "checkpoint saved..\n",
      "model saved...\n",
      "epochs: 4\ttrain_loss = 1.0773\ttrain_acc = 0.4162\tval_loss = 1.2108\tval_acc = 0.0000\n"
     ]
    },
    {
     "name": "stderr",
     "output_type": "stream",
     "text": [
      "  5%|▍         | 5/101 [00:40<13:02,  8.15s/it]"
     ]
    },
    {
     "name": "stdout",
     "output_type": "stream",
     "text": [
      "checkpoint saved..\n",
      "model saved...\n",
      "epochs: 5\ttrain_loss = 1.0712\ttrain_acc = 0.4158\tval_loss = 1.2547\tval_acc = 0.0000\n"
     ]
    },
    {
     "name": "stderr",
     "output_type": "stream",
     "text": [
      "  6%|▌         | 6/101 [00:48<12:58,  8.19s/it]"
     ]
    },
    {
     "name": "stdout",
     "output_type": "stream",
     "text": [
      "checkpoint saved..\n",
      "model saved...\n",
      "epochs: 6\ttrain_loss = 1.0620\ttrain_acc = 0.4153\tval_loss = 1.3155\tval_acc = 0.0000\n"
     ]
    },
    {
     "name": "stderr",
     "output_type": "stream",
     "text": [
      "  7%|▋         | 7/101 [00:56<12:49,  8.18s/it]"
     ]
    },
    {
     "name": "stdout",
     "output_type": "stream",
     "text": [
      "checkpoint saved..\n",
      "model saved...\n",
      "epochs: 7\ttrain_loss = 1.0500\ttrain_acc = 0.4158\tval_loss = 1.4136\tval_acc = 0.0000\n"
     ]
    },
    {
     "name": "stderr",
     "output_type": "stream",
     "text": [
      "  8%|▊         | 8/101 [01:05<12:40,  8.18s/it]"
     ]
    },
    {
     "name": "stdout",
     "output_type": "stream",
     "text": [
      "checkpoint saved..\n",
      "model saved...\n",
      "epochs: 8\ttrain_loss = 1.0327\ttrain_acc = 0.4163\tval_loss = 1.6043\tval_acc = 0.0000\n"
     ]
    },
    {
     "name": "stderr",
     "output_type": "stream",
     "text": [
      "  9%|▉         | 9/101 [01:13<12:34,  8.20s/it]"
     ]
    },
    {
     "name": "stdout",
     "output_type": "stream",
     "text": [
      "checkpoint saved..\n",
      "model saved...\n",
      "epochs: 9\ttrain_loss = 1.0201\ttrain_acc = 0.4167\tval_loss = 1.8577\tval_acc = 0.0000\n"
     ]
    },
    {
     "name": "stderr",
     "output_type": "stream",
     "text": [
      " 10%|▉         | 10/101 [01:21<12:24,  8.18s/it]"
     ]
    },
    {
     "name": "stdout",
     "output_type": "stream",
     "text": [
      "checkpoint saved..\n",
      "model saved...\n",
      "epochs: 10\ttrain_loss = 1.0226\ttrain_acc = 0.4167\tval_loss = 1.9648\tval_acc = 0.0000\n"
     ]
    },
    {
     "name": "stderr",
     "output_type": "stream",
     "text": [
      " 11%|█         | 11/101 [01:29<12:16,  8.18s/it]"
     ]
    },
    {
     "name": "stdout",
     "output_type": "stream",
     "text": [
      "checkpoint saved..\n",
      "model saved...\n",
      "epochs: 11\ttrain_loss = 1.0148\ttrain_acc = 0.4165\tval_loss = 1.8434\tval_acc = 0.0000\n"
     ]
    },
    {
     "name": "stderr",
     "output_type": "stream",
     "text": [
      " 12%|█▏        | 12/101 [01:37<12:06,  8.17s/it]"
     ]
    },
    {
     "name": "stdout",
     "output_type": "stream",
     "text": [
      "checkpoint saved..\n",
      "model saved...\n",
      "epochs: 12\ttrain_loss = 1.0138\ttrain_acc = 0.4162\tval_loss = 1.9295\tval_acc = 0.0000\n"
     ]
    },
    {
     "name": "stderr",
     "output_type": "stream",
     "text": [
      " 13%|█▎        | 13/101 [01:45<11:58,  8.16s/it]"
     ]
    },
    {
     "name": "stdout",
     "output_type": "stream",
     "text": [
      "checkpoint saved..\n",
      "model saved...\n",
      "epochs: 13\ttrain_loss = 1.0126\ttrain_acc = 0.4162\tval_loss = 1.8747\tval_acc = 0.0000\n"
     ]
    },
    {
     "name": "stderr",
     "output_type": "stream",
     "text": [
      " 14%|█▍        | 14/101 [01:54<11:48,  8.14s/it]"
     ]
    },
    {
     "name": "stdout",
     "output_type": "stream",
     "text": [
      "checkpoint saved..\n",
      "model saved...\n",
      "epochs: 14\ttrain_loss = 1.0116\ttrain_acc = 0.4160\tval_loss = 1.7835\tval_acc = 0.0000\n"
     ]
    },
    {
     "name": "stderr",
     "output_type": "stream",
     "text": [
      " 15%|█▍        | 15/101 [02:02<11:39,  8.14s/it]"
     ]
    },
    {
     "name": "stdout",
     "output_type": "stream",
     "text": [
      "checkpoint saved..\n",
      "model saved...\n",
      "epochs: 15\ttrain_loss = 1.0087\ttrain_acc = 0.4165\tval_loss = 1.8551\tval_acc = 0.0000\n"
     ]
    },
    {
     "name": "stderr",
     "output_type": "stream",
     "text": [
      " 16%|█▌        | 16/101 [02:10<11:29,  8.11s/it]"
     ]
    },
    {
     "name": "stdout",
     "output_type": "stream",
     "text": [
      "checkpoint saved..\n",
      "model saved...\n",
      "epochs: 16\ttrain_loss = 1.0051\ttrain_acc = 0.4162\tval_loss = 1.8372\tval_acc = 0.0000\n"
     ]
    },
    {
     "name": "stderr",
     "output_type": "stream",
     "text": [
      " 17%|█▋        | 17/101 [02:18<11:21,  8.12s/it]"
     ]
    },
    {
     "name": "stdout",
     "output_type": "stream",
     "text": [
      "checkpoint saved..\n",
      "model saved...\n",
      "epochs: 17\ttrain_loss = 1.0044\ttrain_acc = 0.4160\tval_loss = 1.8665\tval_acc = 0.0000\n"
     ]
    },
    {
     "name": "stderr",
     "output_type": "stream",
     "text": [
      " 18%|█▊        | 18/101 [02:26<11:13,  8.12s/it]"
     ]
    },
    {
     "name": "stdout",
     "output_type": "stream",
     "text": [
      "checkpoint saved..\n",
      "model saved...\n",
      "epochs: 18\ttrain_loss = 0.9984\ttrain_acc = 0.4185\tval_loss = 1.7860\tval_acc = 0.0000\n"
     ]
    },
    {
     "name": "stderr",
     "output_type": "stream",
     "text": [
      " 19%|█▉        | 19/101 [02:34<11:05,  8.12s/it]"
     ]
    },
    {
     "name": "stdout",
     "output_type": "stream",
     "text": [
      "checkpoint saved..\n",
      "model saved...\n",
      "epochs: 19\ttrain_loss = 0.9951\ttrain_acc = 0.4162\tval_loss = 1.8111\tval_acc = 0.0000\n"
     ]
    },
    {
     "name": "stderr",
     "output_type": "stream",
     "text": [
      " 20%|█▉        | 20/101 [02:42<10:57,  8.12s/it]"
     ]
    },
    {
     "name": "stdout",
     "output_type": "stream",
     "text": [
      "checkpoint saved..\n",
      "model saved...\n",
      "epochs: 20\ttrain_loss = 0.9891\ttrain_acc = 0.4185\tval_loss = 1.8257\tval_acc = 0.0000\n"
     ]
    },
    {
     "name": "stderr",
     "output_type": "stream",
     "text": [
      " 21%|██        | 21/101 [02:50<10:48,  8.11s/it]"
     ]
    },
    {
     "name": "stdout",
     "output_type": "stream",
     "text": [
      "checkpoint saved..\n",
      "model saved...\n",
      "epochs: 21\ttrain_loss = 0.9853\ttrain_acc = 0.4505\tval_loss = 1.7929\tval_acc = 0.0000\n"
     ]
    },
    {
     "name": "stderr",
     "output_type": "stream",
     "text": [
      " 22%|██▏       | 22/101 [02:58<10:40,  8.11s/it]"
     ]
    },
    {
     "name": "stdout",
     "output_type": "stream",
     "text": [
      "checkpoint saved..\n",
      "model saved...\n",
      "epochs: 22\ttrain_loss = 0.9766\ttrain_acc = 0.5165\tval_loss = 1.8198\tval_acc = 0.0000\n"
     ]
    },
    {
     "name": "stderr",
     "output_type": "stream",
     "text": [
      " 23%|██▎       | 23/101 [03:07<10:32,  8.10s/it]"
     ]
    },
    {
     "name": "stdout",
     "output_type": "stream",
     "text": [
      "checkpoint saved..\n",
      "model saved...\n",
      "epochs: 23\ttrain_loss = 0.9715\ttrain_acc = 0.5183\tval_loss = 1.8060\tval_acc = 0.0000\n"
     ]
    },
    {
     "name": "stderr",
     "output_type": "stream",
     "text": [
      " 24%|██▍       | 24/101 [03:15<10:22,  8.08s/it]"
     ]
    },
    {
     "name": "stdout",
     "output_type": "stream",
     "text": [
      "checkpoint saved..\n",
      "model saved...\n",
      "epochs: 24\ttrain_loss = 0.9651\ttrain_acc = 0.5492\tval_loss = 1.7914\tval_acc = 0.0000\n"
     ]
    },
    {
     "name": "stderr",
     "output_type": "stream",
     "text": [
      " 25%|██▍       | 25/101 [03:23<10:15,  8.09s/it]"
     ]
    },
    {
     "name": "stdout",
     "output_type": "stream",
     "text": [
      "checkpoint saved..\n",
      "model saved...\n",
      "epochs: 25\ttrain_loss = 0.9571\ttrain_acc = 0.5638\tval_loss = 1.7209\tval_acc = 0.0000\n"
     ]
    },
    {
     "name": "stderr",
     "output_type": "stream",
     "text": [
      " 26%|██▌       | 26/101 [03:31<10:06,  8.09s/it]"
     ]
    },
    {
     "name": "stdout",
     "output_type": "stream",
     "text": [
      "checkpoint saved..\n",
      "model saved...\n",
      "epochs: 26\ttrain_loss = 0.9501\ttrain_acc = 0.5585\tval_loss = 1.8111\tval_acc = 0.0000\n"
     ]
    },
    {
     "name": "stderr",
     "output_type": "stream",
     "text": [
      " 27%|██▋       | 27/101 [03:39<09:58,  8.08s/it]"
     ]
    },
    {
     "name": "stdout",
     "output_type": "stream",
     "text": [
      "checkpoint saved..\n",
      "model saved...\n",
      "epochs: 27\ttrain_loss = 0.9418\ttrain_acc = 0.5515\tval_loss = 1.7059\tval_acc = 0.0000\n"
     ]
    },
    {
     "name": "stderr",
     "output_type": "stream",
     "text": [
      " 28%|██▊       | 28/101 [03:47<09:50,  8.09s/it]"
     ]
    },
    {
     "name": "stdout",
     "output_type": "stream",
     "text": [
      "checkpoint saved..\n",
      "model saved...\n",
      "epochs: 28\ttrain_loss = 0.9333\ttrain_acc = 0.5535\tval_loss = 1.6767\tval_acc = 0.0000\n"
     ]
    },
    {
     "name": "stderr",
     "output_type": "stream",
     "text": [
      " 29%|██▊       | 29/101 [03:55<09:41,  8.07s/it]"
     ]
    },
    {
     "name": "stdout",
     "output_type": "stream",
     "text": [
      "checkpoint saved..\n",
      "model saved...\n",
      "epochs: 29\ttrain_loss = 0.9265\ttrain_acc = 0.5710\tval_loss = 1.6901\tval_acc = 0.0000\n"
     ]
    },
    {
     "name": "stderr",
     "output_type": "stream",
     "text": [
      " 30%|██▉       | 30/101 [04:03<09:32,  8.06s/it]"
     ]
    },
    {
     "name": "stdout",
     "output_type": "stream",
     "text": [
      "checkpoint saved..\n",
      "model saved...\n",
      "epochs: 30\ttrain_loss = 0.9164\ttrain_acc = 0.5610\tval_loss = 1.7031\tval_acc = 0.0000\n"
     ]
    },
    {
     "name": "stderr",
     "output_type": "stream",
     "text": [
      " 31%|███       | 31/101 [04:11<09:23,  8.04s/it]"
     ]
    },
    {
     "name": "stdout",
     "output_type": "stream",
     "text": [
      "checkpoint saved..\n",
      "model saved...\n",
      "epochs: 31\ttrain_loss = 0.9073\ttrain_acc = 0.5662\tval_loss = 1.7795\tval_acc = 0.0000\n"
     ]
    },
    {
     "name": "stderr",
     "output_type": "stream",
     "text": [
      " 32%|███▏      | 32/101 [04:19<09:15,  8.06s/it]"
     ]
    },
    {
     "name": "stdout",
     "output_type": "stream",
     "text": [
      "checkpoint saved..\n",
      "model saved...\n",
      "epochs: 32\ttrain_loss = 0.9045\ttrain_acc = 0.5658\tval_loss = 1.7022\tval_acc = 0.0000\n"
     ]
    },
    {
     "name": "stderr",
     "output_type": "stream",
     "text": [
      " 33%|███▎      | 33/101 [04:27<09:06,  8.04s/it]"
     ]
    },
    {
     "name": "stdout",
     "output_type": "stream",
     "text": [
      "checkpoint saved..\n",
      "model saved...\n",
      "epochs: 33\ttrain_loss = 0.8928\ttrain_acc = 0.5788\tval_loss = 1.6208\tval_acc = 0.0000\n"
     ]
    },
    {
     "name": "stderr",
     "output_type": "stream",
     "text": [
      " 34%|███▎      | 34/101 [04:35<09:01,  8.08s/it]"
     ]
    },
    {
     "name": "stdout",
     "output_type": "stream",
     "text": [
      "checkpoint saved..\n",
      "model saved...\n",
      "epochs: 34\ttrain_loss = 0.8857\ttrain_acc = 0.5717\tval_loss = 1.6700\tval_acc = 0.0000\n"
     ]
    },
    {
     "name": "stderr",
     "output_type": "stream",
     "text": [
      " 35%|███▍      | 35/101 [04:43<08:52,  8.07s/it]"
     ]
    },
    {
     "name": "stdout",
     "output_type": "stream",
     "text": [
      "checkpoint saved..\n",
      "model saved...\n",
      "epochs: 35\ttrain_loss = 0.8833\ttrain_acc = 0.5845\tval_loss = 1.7128\tval_acc = 0.0000\n"
     ]
    },
    {
     "name": "stderr",
     "output_type": "stream",
     "text": [
      " 36%|███▌      | 36/101 [04:51<08:43,  8.06s/it]"
     ]
    },
    {
     "name": "stdout",
     "output_type": "stream",
     "text": [
      "checkpoint saved..\n",
      "model saved...\n",
      "epochs: 36\ttrain_loss = 0.8763\ttrain_acc = 0.5588\tval_loss = 1.5863\tval_acc = 0.0000\n"
     ]
    },
    {
     "name": "stderr",
     "output_type": "stream",
     "text": [
      " 37%|███▋      | 37/101 [04:59<08:35,  8.05s/it]"
     ]
    },
    {
     "name": "stdout",
     "output_type": "stream",
     "text": [
      "checkpoint saved..\n",
      "model saved...\n",
      "epochs: 37\ttrain_loss = 0.8700\ttrain_acc = 0.5765\tval_loss = 1.8298\tval_acc = 0.0000\n"
     ]
    },
    {
     "name": "stderr",
     "output_type": "stream",
     "text": [
      " 38%|███▊      | 38/101 [05:07<08:25,  8.03s/it]"
     ]
    },
    {
     "name": "stdout",
     "output_type": "stream",
     "text": [
      "checkpoint saved..\n",
      "model saved...\n",
      "epochs: 38\ttrain_loss = 0.8699\ttrain_acc = 0.5642\tval_loss = 1.5555\tval_acc = 0.0000\n"
     ]
    },
    {
     "name": "stderr",
     "output_type": "stream",
     "text": [
      " 39%|███▊      | 39/101 [05:15<08:17,  8.02s/it]"
     ]
    },
    {
     "name": "stdout",
     "output_type": "stream",
     "text": [
      "checkpoint saved..\n",
      "model saved...\n",
      "epochs: 39\ttrain_loss = 0.8665\ttrain_acc = 0.5738\tval_loss = 1.5071\tval_acc = 0.0000\n"
     ]
    },
    {
     "name": "stderr",
     "output_type": "stream",
     "text": [
      " 40%|███▉      | 40/101 [05:23<08:10,  8.04s/it]"
     ]
    },
    {
     "name": "stdout",
     "output_type": "stream",
     "text": [
      "checkpoint saved..\n",
      "model saved...\n",
      "epochs: 40\ttrain_loss = 0.8618\ttrain_acc = 0.5813\tval_loss = 1.6001\tval_acc = 0.0000\n"
     ]
    },
    {
     "name": "stderr",
     "output_type": "stream",
     "text": [
      " 41%|████      | 41/101 [05:32<08:02,  8.05s/it]"
     ]
    },
    {
     "name": "stdout",
     "output_type": "stream",
     "text": [
      "checkpoint saved..\n",
      "model saved...\n",
      "epochs: 41\ttrain_loss = 0.8595\ttrain_acc = 0.5735\tval_loss = 1.5817\tval_acc = 0.0000\n"
     ]
    },
    {
     "name": "stderr",
     "output_type": "stream",
     "text": [
      " 42%|████▏     | 42/101 [05:40<07:56,  8.08s/it]"
     ]
    },
    {
     "name": "stdout",
     "output_type": "stream",
     "text": [
      "checkpoint saved..\n",
      "model saved...\n",
      "epochs: 42\ttrain_loss = 0.8554\ttrain_acc = 0.5713\tval_loss = 1.5310\tval_acc = 0.0000\n"
     ]
    },
    {
     "name": "stderr",
     "output_type": "stream",
     "text": [
      " 43%|████▎     | 43/101 [05:48<07:47,  8.05s/it]"
     ]
    },
    {
     "name": "stdout",
     "output_type": "stream",
     "text": [
      "checkpoint saved..\n",
      "model saved...\n",
      "epochs: 43\ttrain_loss = 0.8497\ttrain_acc = 0.5715\tval_loss = 1.5583\tval_acc = 0.0000\n"
     ]
    },
    {
     "name": "stderr",
     "output_type": "stream",
     "text": [
      " 44%|████▎     | 44/101 [05:56<07:38,  8.05s/it]"
     ]
    },
    {
     "name": "stdout",
     "output_type": "stream",
     "text": [
      "checkpoint saved..\n",
      "model saved...\n",
      "epochs: 44\ttrain_loss = 0.8557\ttrain_acc = 0.5713\tval_loss = 1.4031\tval_acc = 0.0000\n",
      "checkpoint saved..\n"
     ]
    },
    {
     "name": "stderr",
     "output_type": "stream",
     "text": [
      " 45%|████▍     | 45/101 [06:04<07:33,  8.09s/it]"
     ]
    },
    {
     "name": "stdout",
     "output_type": "stream",
     "text": [
      "model saved...\n",
      "epochs: 45\ttrain_loss = 0.8588\ttrain_acc = 0.5713\tval_loss = 1.6613\tval_acc = 0.0000\n"
     ]
    },
    {
     "name": "stderr",
     "output_type": "stream",
     "text": [
      " 46%|████▌     | 46/101 [06:12<07:24,  8.07s/it]"
     ]
    },
    {
     "name": "stdout",
     "output_type": "stream",
     "text": [
      "checkpoint saved..\n",
      "model saved...\n",
      "epochs: 46\ttrain_loss = 0.8402\ttrain_acc = 0.5792\tval_loss = 1.5043\tval_acc = 0.0000\n"
     ]
    },
    {
     "name": "stderr",
     "output_type": "stream",
     "text": [
      " 47%|████▋     | 47/101 [06:20<07:15,  8.06s/it]"
     ]
    },
    {
     "name": "stdout",
     "output_type": "stream",
     "text": [
      "checkpoint saved..\n",
      "model saved...\n",
      "epochs: 47\ttrain_loss = 0.8490\ttrain_acc = 0.5693\tval_loss = 1.4994\tval_acc = 0.0000\n"
     ]
    },
    {
     "name": "stderr",
     "output_type": "stream",
     "text": [
      " 48%|████▊     | 48/101 [06:28<07:07,  8.07s/it]"
     ]
    },
    {
     "name": "stdout",
     "output_type": "stream",
     "text": [
      "checkpoint saved..\n",
      "model saved...\n",
      "epochs: 48\ttrain_loss = 0.8474\ttrain_acc = 0.5862\tval_loss = 1.4828\tval_acc = 0.0000\n"
     ]
    },
    {
     "name": "stderr",
     "output_type": "stream",
     "text": [
      " 49%|████▊     | 49/101 [06:36<07:00,  8.09s/it]"
     ]
    },
    {
     "name": "stdout",
     "output_type": "stream",
     "text": [
      "checkpoint saved..\n",
      "model saved...\n",
      "epochs: 49\ttrain_loss = 0.8369\ttrain_acc = 0.5792\tval_loss = 1.4031\tval_acc = 0.0000\n"
     ]
    },
    {
     "name": "stderr",
     "output_type": "stream",
     "text": [
      " 50%|████▉     | 50/101 [06:44<06:51,  8.07s/it]"
     ]
    },
    {
     "name": "stdout",
     "output_type": "stream",
     "text": [
      "checkpoint saved..\n",
      "model saved...\n",
      "epochs: 50\ttrain_loss = 0.8332\ttrain_acc = 0.5790\tval_loss = 1.6167\tval_acc = 0.0000\n"
     ]
    },
    {
     "name": "stderr",
     "output_type": "stream",
     "text": [
      " 50%|█████     | 51/101 [06:52<06:43,  8.08s/it]"
     ]
    },
    {
     "name": "stdout",
     "output_type": "stream",
     "text": [
      "checkpoint saved..\n",
      "model saved...\n",
      "epochs: 51\ttrain_loss = 0.8295\ttrain_acc = 0.5690\tval_loss = 1.5195\tval_acc = 0.0000\n"
     ]
    },
    {
     "name": "stderr",
     "output_type": "stream",
     "text": [
      " 51%|█████▏    | 52/101 [07:00<06:34,  8.06s/it]"
     ]
    },
    {
     "name": "stdout",
     "output_type": "stream",
     "text": [
      "checkpoint saved..\n",
      "model saved...\n",
      "epochs: 52\ttrain_loss = 0.8303\ttrain_acc = 0.5665\tval_loss = 1.4304\tval_acc = 0.0000\n"
     ]
    },
    {
     "name": "stderr",
     "output_type": "stream",
     "text": [
      " 52%|█████▏    | 53/101 [07:08<06:26,  8.06s/it]"
     ]
    },
    {
     "name": "stdout",
     "output_type": "stream",
     "text": [
      "checkpoint saved..\n",
      "model saved...\n",
      "epochs: 53\ttrain_loss = 0.8280\ttrain_acc = 0.5765\tval_loss = 1.4195\tval_acc = 0.0000\n"
     ]
    },
    {
     "name": "stderr",
     "output_type": "stream",
     "text": [
      " 53%|█████▎    | 54/101 [07:16<06:19,  8.07s/it]"
     ]
    },
    {
     "name": "stdout",
     "output_type": "stream",
     "text": [
      "checkpoint saved..\n",
      "model saved...\n",
      "epochs: 54\ttrain_loss = 0.8200\ttrain_acc = 0.5688\tval_loss = 1.5340\tval_acc = 0.0000\n"
     ]
    },
    {
     "name": "stderr",
     "output_type": "stream",
     "text": [
      " 54%|█████▍    | 55/101 [07:25<06:11,  8.08s/it]"
     ]
    },
    {
     "name": "stdout",
     "output_type": "stream",
     "text": [
      "checkpoint saved..\n",
      "model saved...\n",
      "epochs: 55\ttrain_loss = 0.8159\ttrain_acc = 0.5707\tval_loss = 1.4621\tval_acc = 0.0000\n"
     ]
    },
    {
     "name": "stderr",
     "output_type": "stream",
     "text": [
      " 55%|█████▌    | 56/101 [07:33<06:04,  8.11s/it]"
     ]
    },
    {
     "name": "stdout",
     "output_type": "stream",
     "text": [
      "checkpoint saved..\n",
      "model saved...\n",
      "epochs: 56\ttrain_loss = 0.8211\ttrain_acc = 0.5663\tval_loss = 1.5711\tval_acc = 0.0000\n"
     ]
    },
    {
     "name": "stderr",
     "output_type": "stream",
     "text": [
      " 56%|█████▋    | 57/101 [07:41<05:57,  8.13s/it]"
     ]
    },
    {
     "name": "stdout",
     "output_type": "stream",
     "text": [
      "checkpoint saved..\n",
      "model saved...\n",
      "epochs: 57\ttrain_loss = 0.8120\ttrain_acc = 0.5812\tval_loss = 1.3809\tval_acc = 0.0000\n"
     ]
    },
    {
     "name": "stderr",
     "output_type": "stream",
     "text": [
      " 57%|█████▋    | 58/101 [07:49<05:48,  8.11s/it]"
     ]
    },
    {
     "name": "stdout",
     "output_type": "stream",
     "text": [
      "checkpoint saved..\n",
      "model saved...\n",
      "epochs: 58\ttrain_loss = 0.8128\ttrain_acc = 0.5845\tval_loss = 1.3516\tval_acc = 0.0089\n"
     ]
    },
    {
     "name": "stderr",
     "output_type": "stream",
     "text": [
      " 58%|█████▊    | 59/101 [07:57<05:41,  8.13s/it]"
     ]
    },
    {
     "name": "stdout",
     "output_type": "stream",
     "text": [
      "checkpoint saved..\n",
      "model saved...\n",
      "epochs: 59\ttrain_loss = 0.8010\ttrain_acc = 0.5697\tval_loss = 1.5179\tval_acc = 0.0089\n"
     ]
    },
    {
     "name": "stderr",
     "output_type": "stream",
     "text": [
      " 59%|█████▉    | 60/101 [08:05<05:34,  8.15s/it]"
     ]
    },
    {
     "name": "stdout",
     "output_type": "stream",
     "text": [
      "checkpoint saved..\n",
      "model saved...\n",
      "epochs: 60\ttrain_loss = 0.8087\ttrain_acc = 0.5738\tval_loss = 1.5052\tval_acc = 0.0089\n"
     ]
    },
    {
     "name": "stderr",
     "output_type": "stream",
     "text": [
      " 60%|██████    | 61/101 [08:13<05:24,  8.12s/it]"
     ]
    },
    {
     "name": "stdout",
     "output_type": "stream",
     "text": [
      "checkpoint saved..\n",
      "model saved...\n",
      "epochs: 61\ttrain_loss = 0.7990\ttrain_acc = 0.5868\tval_loss = 1.1799\tval_acc = 0.1815\n",
      "checkpoint saved..\n"
     ]
    },
    {
     "name": "stderr",
     "output_type": "stream",
     "text": [
      " 61%|██████▏   | 62/101 [08:22<05:19,  8.20s/it]"
     ]
    },
    {
     "name": "stdout",
     "output_type": "stream",
     "text": [
      "model saved...\n",
      "epochs: 62\ttrain_loss = 0.8002\ttrain_acc = 0.5887\tval_loss = 1.2118\tval_acc = 0.1637\n"
     ]
    },
    {
     "name": "stderr",
     "output_type": "stream",
     "text": [
      " 62%|██████▏   | 63/101 [08:30<05:11,  8.20s/it]"
     ]
    },
    {
     "name": "stdout",
     "output_type": "stream",
     "text": [
      "checkpoint saved..\n",
      "model saved...\n",
      "epochs: 63\ttrain_loss = 0.8009\ttrain_acc = 0.5870\tval_loss = 1.2832\tval_acc = 0.1726\n"
     ]
    },
    {
     "name": "stderr",
     "output_type": "stream",
     "text": [
      " 63%|██████▎   | 64/101 [08:38<05:02,  8.16s/it]"
     ]
    },
    {
     "name": "stdout",
     "output_type": "stream",
     "text": [
      "checkpoint saved..\n",
      "model saved...\n",
      "epochs: 64\ttrain_loss = 0.7917\ttrain_acc = 0.5992\tval_loss = 1.4963\tval_acc = 0.0536\n"
     ]
    },
    {
     "name": "stderr",
     "output_type": "stream",
     "text": [
      " 64%|██████▍   | 65/101 [08:46<04:53,  8.15s/it]"
     ]
    },
    {
     "name": "stdout",
     "output_type": "stream",
     "text": [
      "checkpoint saved..\n",
      "model saved...\n",
      "epochs: 65\ttrain_loss = 0.7938\ttrain_acc = 0.6067\tval_loss = 1.1714\tval_acc = 0.2083\n"
     ]
    },
    {
     "name": "stderr",
     "output_type": "stream",
     "text": [
      " 65%|██████▌   | 66/101 [08:54<04:45,  8.16s/it]"
     ]
    },
    {
     "name": "stdout",
     "output_type": "stream",
     "text": [
      "checkpoint saved..\n",
      "model saved...\n",
      "epochs: 66\ttrain_loss = 0.7936\ttrain_acc = 0.6085\tval_loss = 1.4972\tval_acc = 0.1161\n"
     ]
    },
    {
     "name": "stderr",
     "output_type": "stream",
     "text": [
      " 66%|██████▋   | 67/101 [09:03<04:37,  8.16s/it]"
     ]
    },
    {
     "name": "stdout",
     "output_type": "stream",
     "text": [
      "checkpoint saved..\n",
      "model saved...\n",
      "epochs: 67\ttrain_loss = 0.7862\ttrain_acc = 0.6115\tval_loss = 1.2653\tval_acc = 0.1994\n"
     ]
    },
    {
     "name": "stderr",
     "output_type": "stream",
     "text": [
      " 67%|██████▋   | 68/101 [09:11<04:30,  8.21s/it]"
     ]
    },
    {
     "name": "stdout",
     "output_type": "stream",
     "text": [
      "checkpoint saved..\n",
      "model saved...\n",
      "epochs: 68\ttrain_loss = 0.7805\ttrain_acc = 0.6162\tval_loss = 1.4354\tval_acc = 0.1339\n"
     ]
    },
    {
     "name": "stderr",
     "output_type": "stream",
     "text": [
      " 68%|██████▊   | 69/101 [09:19<04:22,  8.20s/it]"
     ]
    },
    {
     "name": "stdout",
     "output_type": "stream",
     "text": [
      "checkpoint saved..\n",
      "model saved...\n",
      "epochs: 69\ttrain_loss = 0.7754\ttrain_acc = 0.6265\tval_loss = 1.2434\tval_acc = 0.2321\n"
     ]
    },
    {
     "name": "stderr",
     "output_type": "stream",
     "text": [
      " 69%|██████▉   | 70/101 [09:27<04:13,  8.19s/it]"
     ]
    },
    {
     "name": "stdout",
     "output_type": "stream",
     "text": [
      "checkpoint saved..\n",
      "model saved...\n",
      "epochs: 70\ttrain_loss = 0.7661\ttrain_acc = 0.6165\tval_loss = 1.1279\tval_acc = 0.4286\n"
     ]
    },
    {
     "name": "stderr",
     "output_type": "stream",
     "text": [
      " 70%|███████   | 71/101 [09:35<04:05,  8.18s/it]"
     ]
    },
    {
     "name": "stdout",
     "output_type": "stream",
     "text": [
      "checkpoint saved..\n",
      "model saved...\n",
      "epochs: 71\ttrain_loss = 0.7619\ttrain_acc = 0.6245\tval_loss = 1.2210\tval_acc = 0.2827\n"
     ]
    },
    {
     "name": "stderr",
     "output_type": "stream",
     "text": [
      " 71%|███████▏  | 72/101 [09:43<03:56,  8.16s/it]"
     ]
    },
    {
     "name": "stdout",
     "output_type": "stream",
     "text": [
      "checkpoint saved..\n",
      "model saved...\n",
      "epochs: 72\ttrain_loss = 0.7572\ttrain_acc = 0.6315\tval_loss = 1.2246\tval_acc = 0.3423\n"
     ]
    },
    {
     "name": "stderr",
     "output_type": "stream",
     "text": [
      " 72%|███████▏  | 73/101 [09:52<03:48,  8.14s/it]"
     ]
    },
    {
     "name": "stdout",
     "output_type": "stream",
     "text": [
      "checkpoint saved..\n",
      "model saved...\n",
      "epochs: 73\ttrain_loss = 0.7600\ttrain_acc = 0.6495\tval_loss = 1.2401\tval_acc = 0.3423\n"
     ]
    },
    {
     "name": "stderr",
     "output_type": "stream",
     "text": [
      " 73%|███████▎  | 74/101 [10:00<03:40,  8.16s/it]"
     ]
    },
    {
     "name": "stdout",
     "output_type": "stream",
     "text": [
      "checkpoint saved..\n",
      "model saved...\n",
      "epochs: 74\ttrain_loss = 0.7571\ttrain_acc = 0.6442\tval_loss = 1.3037\tval_acc = 0.2798\n"
     ]
    },
    {
     "name": "stderr",
     "output_type": "stream",
     "text": [
      " 74%|███████▍  | 75/101 [10:08<03:31,  8.14s/it]"
     ]
    },
    {
     "name": "stdout",
     "output_type": "stream",
     "text": [
      "checkpoint saved..\n",
      "model saved...\n",
      "epochs: 75\ttrain_loss = 0.7462\ttrain_acc = 0.6447\tval_loss = 1.0780\tval_acc = 0.4345\n"
     ]
    },
    {
     "name": "stderr",
     "output_type": "stream",
     "text": [
      " 75%|███████▌  | 76/101 [10:16<03:24,  8.17s/it]"
     ]
    },
    {
     "name": "stdout",
     "output_type": "stream",
     "text": [
      "checkpoint saved..\n",
      "model saved...\n",
      "epochs: 76\ttrain_loss = 0.7403\ttrain_acc = 0.6545\tval_loss = 1.0890\tval_acc = 0.3869\n"
     ]
    },
    {
     "name": "stderr",
     "output_type": "stream",
     "text": [
      " 76%|███████▌  | 77/101 [10:24<03:15,  8.16s/it]"
     ]
    },
    {
     "name": "stdout",
     "output_type": "stream",
     "text": [
      "checkpoint saved..\n",
      "model saved...\n",
      "epochs: 77\ttrain_loss = 0.7397\ttrain_acc = 0.6468\tval_loss = 1.0876\tval_acc = 0.4554\n"
     ]
    },
    {
     "name": "stderr",
     "output_type": "stream",
     "text": [
      " 77%|███████▋  | 78/101 [10:32<03:07,  8.17s/it]"
     ]
    },
    {
     "name": "stdout",
     "output_type": "stream",
     "text": [
      "checkpoint saved..\n",
      "model saved...\n",
      "epochs: 78\ttrain_loss = 0.7283\ttrain_acc = 0.6492\tval_loss = 1.1752\tval_acc = 0.4256\n",
      "checkpoint saved..\n"
     ]
    },
    {
     "name": "stderr",
     "output_type": "stream",
     "text": [
      " 78%|███████▊  | 79/101 [10:41<03:00,  8.21s/it]"
     ]
    },
    {
     "name": "stdout",
     "output_type": "stream",
     "text": [
      "model saved...\n",
      "epochs: 79\ttrain_loss = 0.7268\ttrain_acc = 0.6622\tval_loss = 1.0712\tval_acc = 0.3929\n"
     ]
    },
    {
     "name": "stderr",
     "output_type": "stream",
     "text": [
      " 79%|███████▉  | 80/101 [10:49<02:51,  8.18s/it]"
     ]
    },
    {
     "name": "stdout",
     "output_type": "stream",
     "text": [
      "checkpoint saved..\n",
      "model saved...\n",
      "epochs: 80\ttrain_loss = 0.7191\ttrain_acc = 0.6518\tval_loss = 1.2393\tval_acc = 0.4226\n"
     ]
    },
    {
     "name": "stderr",
     "output_type": "stream",
     "text": [
      " 80%|████████  | 81/101 [10:57<02:43,  8.18s/it]"
     ]
    },
    {
     "name": "stdout",
     "output_type": "stream",
     "text": [
      "checkpoint saved..\n",
      "model saved...\n",
      "epochs: 81\ttrain_loss = 0.7144\ttrain_acc = 0.6793\tval_loss = 1.0466\tval_acc = 0.5060\n"
     ]
    },
    {
     "name": "stderr",
     "output_type": "stream",
     "text": [
      " 81%|████████  | 82/101 [11:05<02:35,  8.18s/it]"
     ]
    },
    {
     "name": "stdout",
     "output_type": "stream",
     "text": [
      "checkpoint saved..\n",
      "model saved...\n",
      "epochs: 82\ttrain_loss = 0.7081\ttrain_acc = 0.6715\tval_loss = 1.0986\tval_acc = 0.4940\n"
     ]
    },
    {
     "name": "stderr",
     "output_type": "stream",
     "text": [
      " 82%|████████▏ | 83/101 [11:13<02:27,  8.17s/it]"
     ]
    },
    {
     "name": "stdout",
     "output_type": "stream",
     "text": [
      "checkpoint saved..\n",
      "model saved...\n",
      "epochs: 83\ttrain_loss = 0.7108\ttrain_acc = 0.6715\tval_loss = 1.2479\tval_acc = 0.3958\n"
     ]
    },
    {
     "name": "stderr",
     "output_type": "stream",
     "text": [
      " 83%|████████▎ | 84/101 [11:22<02:19,  8.18s/it]"
     ]
    },
    {
     "name": "stdout",
     "output_type": "stream",
     "text": [
      "checkpoint saved..\n",
      "model saved...\n",
      "epochs: 84\ttrain_loss = 0.7159\ttrain_acc = 0.6540\tval_loss = 1.1022\tval_acc = 0.4702\n",
      "checkpoint saved..\n"
     ]
    },
    {
     "name": "stderr",
     "output_type": "stream",
     "text": [
      " 84%|████████▍ | 85/101 [11:30<02:11,  8.24s/it]"
     ]
    },
    {
     "name": "stdout",
     "output_type": "stream",
     "text": [
      "model saved...\n",
      "epochs: 85\ttrain_loss = 0.6945\ttrain_acc = 0.6742\tval_loss = 1.0480\tval_acc = 0.5119\n"
     ]
    },
    {
     "name": "stderr",
     "output_type": "stream",
     "text": [
      " 85%|████████▌ | 86/101 [11:38<02:02,  8.20s/it]"
     ]
    },
    {
     "name": "stdout",
     "output_type": "stream",
     "text": [
      "checkpoint saved..\n",
      "model saved...\n",
      "epochs: 86\ttrain_loss = 0.6866\ttrain_acc = 0.6735\tval_loss = 0.8558\tval_acc = 0.6488\n"
     ]
    },
    {
     "name": "stderr",
     "output_type": "stream",
     "text": [
      " 86%|████████▌ | 87/101 [11:46<01:54,  8.18s/it]"
     ]
    },
    {
     "name": "stdout",
     "output_type": "stream",
     "text": [
      "checkpoint saved..\n",
      "model saved...\n",
      "epochs: 87\ttrain_loss = 0.7107\ttrain_acc = 0.6615\tval_loss = 1.2920\tval_acc = 0.3958\n"
     ]
    },
    {
     "name": "stderr",
     "output_type": "stream",
     "text": [
      " 87%|████████▋ | 88/101 [11:54<01:46,  8.20s/it]"
     ]
    },
    {
     "name": "stdout",
     "output_type": "stream",
     "text": [
      "checkpoint saved..\n",
      "model saved...\n",
      "epochs: 88\ttrain_loss = 0.6866\ttrain_acc = 0.6742\tval_loss = 1.0250\tval_acc = 0.5149\n"
     ]
    },
    {
     "name": "stderr",
     "output_type": "stream",
     "text": [
      " 88%|████████▊ | 89/101 [12:03<01:38,  8.21s/it]"
     ]
    },
    {
     "name": "stdout",
     "output_type": "stream",
     "text": [
      "checkpoint saved..\n",
      "model saved...\n",
      "epochs: 89\ttrain_loss = 0.6890\ttrain_acc = 0.6890\tval_loss = 1.0031\tval_acc = 0.5476\n"
     ]
    },
    {
     "name": "stderr",
     "output_type": "stream",
     "text": [
      " 89%|████████▉ | 90/101 [12:11<01:30,  8.20s/it]"
     ]
    },
    {
     "name": "stdout",
     "output_type": "stream",
     "text": [
      "checkpoint saved..\n",
      "model saved...\n",
      "epochs: 90\ttrain_loss = 0.6790\ttrain_acc = 0.6792\tval_loss = 1.0432\tval_acc = 0.5000\n"
     ]
    },
    {
     "name": "stderr",
     "output_type": "stream",
     "text": [
      " 90%|█████████ | 91/101 [12:19<01:21,  8.19s/it]"
     ]
    },
    {
     "name": "stdout",
     "output_type": "stream",
     "text": [
      "checkpoint saved..\n",
      "model saved...\n",
      "epochs: 91\ttrain_loss = 0.6642\ttrain_acc = 0.6990\tval_loss = 0.8290\tval_acc = 0.6131\n"
     ]
    },
    {
     "name": "stderr",
     "output_type": "stream",
     "text": [
      " 91%|█████████ | 92/101 [12:27<01:13,  8.18s/it]"
     ]
    },
    {
     "name": "stdout",
     "output_type": "stream",
     "text": [
      "checkpoint saved..\n",
      "model saved...\n",
      "epochs: 92\ttrain_loss = 0.6717\ttrain_acc = 0.6867\tval_loss = 0.8713\tval_acc = 0.6310\n"
     ]
    },
    {
     "name": "stderr",
     "output_type": "stream",
     "text": [
      " 92%|█████████▏| 93/101 [12:35<01:05,  8.16s/it]"
     ]
    },
    {
     "name": "stdout",
     "output_type": "stream",
     "text": [
      "checkpoint saved..\n",
      "model saved...\n",
      "epochs: 93\ttrain_loss = 0.6668\ttrain_acc = 0.7065\tval_loss = 0.8690\tval_acc = 0.6190\n"
     ]
    },
    {
     "name": "stderr",
     "output_type": "stream",
     "text": [
      " 93%|█████████▎| 94/101 [12:43<00:57,  8.18s/it]"
     ]
    },
    {
     "name": "stdout",
     "output_type": "stream",
     "text": [
      "checkpoint saved..\n",
      "model saved...\n",
      "epochs: 94\ttrain_loss = 0.6662\ttrain_acc = 0.6967\tval_loss = 0.9373\tval_acc = 0.6310\n"
     ]
    },
    {
     "name": "stderr",
     "output_type": "stream",
     "text": [
      " 94%|█████████▍| 95/101 [12:52<00:49,  8.18s/it]"
     ]
    },
    {
     "name": "stdout",
     "output_type": "stream",
     "text": [
      "checkpoint saved..\n",
      "model saved...\n",
      "epochs: 95\ttrain_loss = 0.6556\ttrain_acc = 0.6942\tval_loss = 1.1120\tval_acc = 0.5119\n"
     ]
    },
    {
     "name": "stderr",
     "output_type": "stream",
     "text": [
      " 95%|█████████▌| 96/101 [13:00<00:41,  8.20s/it]"
     ]
    },
    {
     "name": "stdout",
     "output_type": "stream",
     "text": [
      "checkpoint saved..\n",
      "model saved...\n",
      "epochs: 96\ttrain_loss = 0.6489\ttrain_acc = 0.7147\tval_loss = 0.8656\tval_acc = 0.6548\n"
     ]
    },
    {
     "name": "stderr",
     "output_type": "stream",
     "text": [
      " 96%|█████████▌| 97/101 [13:08<00:32,  8.17s/it]"
     ]
    },
    {
     "name": "stdout",
     "output_type": "stream",
     "text": [
      "checkpoint saved..\n",
      "model saved...\n",
      "epochs: 97\ttrain_loss = 0.6507\ttrain_acc = 0.6943\tval_loss = 1.0402\tval_acc = 0.5387\n"
     ]
    },
    {
     "name": "stderr",
     "output_type": "stream",
     "text": [
      " 97%|█████████▋| 98/101 [13:16<00:24,  8.16s/it]"
     ]
    },
    {
     "name": "stdout",
     "output_type": "stream",
     "text": [
      "checkpoint saved..\n",
      "model saved...\n",
      "epochs: 98\ttrain_loss = 0.6447\ttrain_acc = 0.7018\tval_loss = 0.7841\tval_acc = 0.7024\n"
     ]
    },
    {
     "name": "stderr",
     "output_type": "stream",
     "text": [
      " 98%|█████████▊| 99/101 [13:24<00:16,  8.18s/it]"
     ]
    },
    {
     "name": "stdout",
     "output_type": "stream",
     "text": [
      "checkpoint saved..\n",
      "model saved...\n",
      "epochs: 99\ttrain_loss = 0.6523\ttrain_acc = 0.6968\tval_loss = 0.8366\tval_acc = 0.6518\n"
     ]
    },
    {
     "name": "stderr",
     "output_type": "stream",
     "text": [
      " 99%|█████████▉| 100/101 [13:32<00:08,  8.04s/it]"
     ]
    },
    {
     "name": "stdout",
     "output_type": "stream",
     "text": [
      "checkpoint saved..\n",
      "model saved...\n",
      "epochs: 100\ttrain_loss = 0.6412\ttrain_acc = 0.7118\tval_loss = 0.9893\tval_acc = 0.5952\n"
     ]
    },
    {
     "name": "stderr",
     "output_type": "stream",
     "text": [
      "100%|██████████| 101/101 [13:40<00:00,  8.12s/it]"
     ]
    },
    {
     "name": "stdout",
     "output_type": "stream",
     "text": [
      "checkpoint saved..\n",
      "model saved...\n",
      "Finished Training....\n"
     ]
    },
    {
     "name": "stderr",
     "output_type": "stream",
     "text": [
      "\n"
     ]
    }
   ],
   "source": [
    "torch.cuda.empty_cache()\n",
    "agent.train()"
   ]
  },
  {
   "cell_type": "code",
   "execution_count": null,
   "metadata": {},
   "outputs": [],
   "source": []
  }
 ],
 "metadata": {
  "kernelspec": {
   "display_name": "Python 3",
   "language": "python",
   "name": "python3"
  },
  "language_info": {
   "codemirror_mode": {
    "name": "ipython",
    "version": 3
   },
   "file_extension": ".py",
   "mimetype": "text/x-python",
   "name": "python",
   "nbconvert_exporter": "python",
   "pygments_lexer": "ipython3",
   "version": "3.8.10"
  }
 },
 "nbformat": 4,
 "nbformat_minor": 2
}
